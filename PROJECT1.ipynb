{
 "cells": [
  {
   "cell_type": "code",
   "execution_count": 78,
   "id": "fcd33b03-6e3b-4ec0-a34a-f39e6e82eecc",
   "metadata": {},
   "outputs": [],
   "source": [
    "#SPAM DETECTION IN EMAILS USING NLP"
   ]
  },
  {
   "cell_type": "code",
   "execution_count": 2,
   "id": "681f7830-cdad-48c3-a366-53703993914f",
   "metadata": {},
   "outputs": [],
   "source": [
    "#importing necessary libraries"
   ]
  },
  {
   "cell_type": "code",
   "execution_count": 3,
   "id": "99fe9a83-0cc4-4eb1-bfcd-3fb0c6a251e2",
   "metadata": {},
   "outputs": [],
   "source": [
    "import torch"
   ]
  },
  {
   "cell_type": "code",
   "execution_count": 4,
   "id": "9dfbc19e-a889-4247-817c-3ebc6b21eb4d",
   "metadata": {},
   "outputs": [],
   "source": [
    "import torch.nn as nn\n",
    "import torch.optim as optim"
   ]
  },
  {
   "cell_type": "code",
   "execution_count": 5,
   "id": "3288c887-c9f2-4995-adfe-d58b56529eef",
   "metadata": {},
   "outputs": [],
   "source": [
    "from sklearn.feature_extraction.text import TfidfVectorizer\n",
    "from sklearn.model_selection import train_test_split\n",
    "from sklearn.metrics import accuracy_score, confusion_matrix"
   ]
  },
  {
   "cell_type": "code",
   "execution_count": 6,
   "id": "e8909cef-a9da-490e-981b-4a6ceb40e724",
   "metadata": {},
   "outputs": [],
   "source": [
    "from nltk.corpus import stopwords\n",
    "from nltk.tokenize import word_tokenize\n",
    "from nltk.stem import PorterStemmer"
   ]
  },
  {
   "cell_type": "code",
   "execution_count": 7,
   "id": "753fc6eb-f065-4b9b-9bcf-bebeae10b05d",
   "metadata": {},
   "outputs": [],
   "source": [
    "import pandas as pd\n",
    "import numpy as np\n",
    "import re\n",
    "import nltk"
   ]
  },
  {
   "cell_type": "code",
   "execution_count": 8,
   "id": "78006e43-f1a7-4008-bf83-4a6e6cd61338",
   "metadata": {},
   "outputs": [],
   "source": [
    "import matplotlib.pyplot as plt\n",
    "import seaborn as sns\n"
   ]
  },
  {
   "cell_type": "code",
   "execution_count": 9,
   "id": "40189ed1-1094-4577-ae3c-96ce3540a33a",
   "metadata": {},
   "outputs": [
    {
     "name": "stderr",
     "output_type": "stream",
     "text": [
      "[nltk_data] Downloading package punkt to\n",
      "[nltk_data]     C:\\Users\\Asus\\AppData\\Roaming\\nltk_data...\n",
      "[nltk_data]   Package punkt is already up-to-date!\n",
      "[nltk_data] Downloading package stopwords to\n",
      "[nltk_data]     C:\\Users\\Asus\\AppData\\Roaming\\nltk_data...\n",
      "[nltk_data]   Package stopwords is already up-to-date!\n"
     ]
    },
    {
     "data": {
      "text/plain": [
       "True"
      ]
     },
     "execution_count": 9,
     "metadata": {},
     "output_type": "execute_result"
    }
   ],
   "source": [
    "nltk.download('punkt')\n",
    "nltk.download('stopwords')"
   ]
  },
  {
   "cell_type": "code",
   "execution_count": 10,
   "id": "012563b1-d648-4e5e-9234-8cb6979324aa",
   "metadata": {},
   "outputs": [],
   "source": [
    "# Load a CSV file\n",
    "data = pd.read_csv('spam.csv',encoding='latin1')  # Assuming 'spam.csv' contains two columns: 'text' and 'label'\n"
   ]
  },
  {
   "cell_type": "code",
   "execution_count": 11,
   "id": "fb9bb8d3-092d-409f-bb86-8993bbfc3d27",
   "metadata": {},
   "outputs": [
    {
     "name": "stdout",
     "output_type": "stream",
     "text": [
      "  label                                               text Unnamed: 2  \\\n",
      "0   ham  Go until jurong point, crazy.. Available only ...        NaN   \n",
      "1   ham                      Ok lar... Joking wif u oni...        NaN   \n",
      "2  spam  Free entry in 2 a wkly comp to win FA Cup fina...        NaN   \n",
      "3   ham  U dun say so early hor... U c already then say...        NaN   \n",
      "4   ham  Nah I don't think he goes to usf, he lives aro...        NaN   \n",
      "\n",
      "  Unnamed: 3 Unnamed: 4  \n",
      "0        NaN        NaN  \n",
      "1        NaN        NaN  \n",
      "2        NaN        NaN  \n",
      "3        NaN        NaN  \n",
      "4        NaN        NaN  \n"
     ]
    }
   ],
   "source": [
    "print(data.head())"
   ]
  },
  {
   "cell_type": "code",
   "execution_count": 12,
   "id": "3851ad63-1c2d-4576-8cd5-0dc8e4875f07",
   "metadata": {},
   "outputs": [],
   "source": [
    "#prepossing the data"
   ]
  },
  {
   "cell_type": "code",
   "execution_count": 13,
   "id": "f1ddf742-b8ac-44c1-a172-53bdadc233c5",
   "metadata": {},
   "outputs": [],
   "source": [
    "# Text cleaning function\n",
    "def clean_text(text):\n",
    "    text = text.lower()  # Convert text to lowercase\n",
    "    text = re.sub(r'<.*?>', '', text)  # Remove HTML tags\n",
    "    text = re.sub(r'[^\\w\\s]', '', text)  # Remove punctuation\n",
    "    text = re.sub(r'\\d+', '', text)  # Remove numbers\n",
    "    return text\n"
   ]
  },
  {
   "cell_type": "code",
   "execution_count": 14,
   "id": "fad44900-5a3b-406b-a4ab-8468a16a88e5",
   "metadata": {},
   "outputs": [],
   "source": [
    "# Apply text cleaning\n",
    "data['cleaned_text'] = data['text'].apply(clean_text)"
   ]
  },
  {
   "cell_type": "code",
   "execution_count": 15,
   "id": "81fb2454-a40b-4862-88c5-1c3f74953d48",
   "metadata": {},
   "outputs": [
    {
     "name": "stdout",
     "output_type": "stream",
     "text": [
      "Index(['label', 'text', 'Unnamed: 2', 'Unnamed: 3', 'Unnamed: 4',\n",
      "       'cleaned_text'],\n",
      "      dtype='object')\n"
     ]
    }
   ],
   "source": [
    "print(data.columns)"
   ]
  },
  {
   "cell_type": "code",
   "execution_count": 16,
   "id": "d5866b6e-cb9f-47fc-a0f1-e0077a35eaec",
   "metadata": {},
   "outputs": [
    {
     "name": "stdout",
     "output_type": "stream",
     "text": [
      "Index(['label', 'text', 'Unnamed: 2', 'Unnamed: 3', 'Unnamed: 4',\n",
      "       'cleaned_text'],\n",
      "      dtype='object')\n"
     ]
    }
   ],
   "source": [
    "print(data.columns)"
   ]
  },
  {
   "cell_type": "code",
   "execution_count": 17,
   "id": "346739d1-2ba5-4776-9b7e-60ea65642334",
   "metadata": {},
   "outputs": [],
   "source": [
    "data = data.rename(columns={data.columns[0]: 'label'})"
   ]
  },
  {
   "cell_type": "code",
   "execution_count": 18,
   "id": "78e973d3-ee75-4f8c-8172-a97d25915091",
   "metadata": {},
   "outputs": [
    {
     "name": "stdout",
     "output_type": "stream",
     "text": [
      "Index(['label', 'text', 'Unnamed: 2', 'Unnamed: 3', 'Unnamed: 4',\n",
      "       'cleaned_text'],\n",
      "      dtype='object')\n"
     ]
    }
   ],
   "source": [
    "print(data.columns)"
   ]
  },
  {
   "cell_type": "code",
   "execution_count": 19,
   "id": "271e81a9-830c-442b-8549-4c1d3867baf9",
   "metadata": {},
   "outputs": [],
   "source": [
    "data = data.rename(columns={data.columns[1]: 'text'})"
   ]
  },
  {
   "cell_type": "code",
   "execution_count": 20,
   "id": "c29ebd47-82e1-4616-9052-f115042f29b2",
   "metadata": {},
   "outputs": [
    {
     "name": "stdout",
     "output_type": "stream",
     "text": [
      "Index(['label', 'text', 'Unnamed: 2', 'Unnamed: 3', 'Unnamed: 4',\n",
      "       'cleaned_text'],\n",
      "      dtype='object')\n"
     ]
    }
   ],
   "source": [
    "print(data.columns)"
   ]
  },
  {
   "cell_type": "code",
   "execution_count": 21,
   "id": "6dd8f6fc-796e-46cf-9272-852555c6a50e",
   "metadata": {},
   "outputs": [],
   "source": [
    "data['cleaned_text'] = data['text'].apply(clean_text)"
   ]
  },
  {
   "cell_type": "code",
   "execution_count": 22,
   "id": "04cd1a64-4e06-4901-9aec-b3d7ee3a4c46",
   "metadata": {},
   "outputs": [],
   "source": [
    "# Tokenization and Stop-word removal\n",
    "stop_words = set(stopwords.words('english'))\n",
    "ps = PorterStemmer()"
   ]
  },
  {
   "cell_type": "code",
   "execution_count": 23,
   "id": "66cec9a4-ea8e-4204-9acc-548ea38dd462",
   "metadata": {},
   "outputs": [],
   "source": [
    "def preprocess_text(text):\n",
    "    tokens = word_tokenize(text)\n",
    "    tokens = [ps.stem(word) for word in tokens if word not in stop_words]\n",
    "    return ' '.join(tokens)\n",
    "\n",
    "data['preprocessed_text'] = data['cleaned_text'].apply(preprocess_text)"
   ]
  },
  {
   "cell_type": "code",
   "execution_count": 24,
   "id": "5c3ed35b-9aa5-4123-9a1d-c4e788cd9f0c",
   "metadata": {},
   "outputs": [],
   "source": [
    "#Convert Text to TF-IDF Vectors"
   ]
  },
  {
   "cell_type": "code",
   "execution_count": 25,
   "id": "527a6047-cf63-494f-bbee-c8d132c7baf8",
   "metadata": {},
   "outputs": [],
   "source": [
    "# Convert text into TF-IDF vectors\n",
    "vectorizer = TfidfVectorizer(max_features=1000)  # Limit to top 1000 words\n",
    "X = vectorizer.fit_transform(data['preprocessed_text']).toarray()"
   ]
  },
  {
   "cell_type": "code",
   "execution_count": 26,
   "id": "8722a047-6c2e-4641-b625-280cf309b1c8",
   "metadata": {},
   "outputs": [],
   "source": [
    "\n",
    "# Labels (0 for ham, 1 for spam)\n",
    "y = data['label'].apply(lambda x: 1 if x == 'spam' else 0).values\n"
   ]
  },
  {
   "cell_type": "code",
   "execution_count": 27,
   "id": "e78d4929-2d68-4902-8008-87203ff83348",
   "metadata": {},
   "outputs": [],
   "source": [
    "# Split the data into training and testing sets\n",
    "X_train, X_test, y_train, y_test = train_test_split(X, y, test_size=0.2, random_state=42)"
   ]
  },
  {
   "cell_type": "code",
   "execution_count": 28,
   "id": "e8a30871-d481-41e3-9af6-88a560248e10",
   "metadata": {},
   "outputs": [],
   "source": [
    "#Model Development\n",
    "#Define the Neural Network"
   ]
  },
  {
   "cell_type": "code",
   "execution_count": 29,
   "id": "c574c291-e54c-4e9b-863b-270186c2c246",
   "metadata": {},
   "outputs": [],
   "source": [
    "class SpamClassifier(nn.Module):\n",
    "    def __init__(self, input_size, hidden_size):\n",
    "        super(SpamClassifier, self).__init__()\n",
    "        self.fc1 = nn.Linear(input_size, hidden_size)\n",
    "        self.relu = nn.ReLU()\n",
    "        self.fc2 = nn.Linear(hidden_size, 1)\n",
    "        self.sigmoid = nn.Sigmoid()\n",
    "\n",
    "    def forward(self, x):\n",
    "        out = self.fc1(x)\n",
    "        out = self.relu(out)\n",
    "        out = self.fc2(out)\n",
    "        out = self.sigmoid(out)\n",
    "        return out\n"
   ]
  },
  {
   "cell_type": "code",
   "execution_count": 30,
   "id": "02aac099-f789-498b-b201-ab5899f0462c",
   "metadata": {},
   "outputs": [],
   "source": [
    "#Training the Model\n",
    "#Hyperparameters and Model Setup"
   ]
  },
  {
   "cell_type": "code",
   "execution_count": 31,
   "id": "3a61ec47-2c40-4c6a-8c30-e37a1e40abad",
   "metadata": {},
   "outputs": [],
   "source": [
    "input_size = X_train.shape[1]  # Number of features (TF-IDF size)\n",
    "hidden_size = 128  # Can be tuned\n",
    "num_epochs = 10\n",
    "batch_size = 32\n",
    "learning_rate = 0.001"
   ]
  },
  {
   "cell_type": "code",
   "execution_count": 32,
   "id": "98c44e4c-c002-438c-a717-6cf6f2f8c27f",
   "metadata": {},
   "outputs": [],
   "source": [
    "# Convert data to tensors\n",
    "X_train_tensor = torch.tensor(X_train, dtype=torch.float32)\n",
    "X_test_tensor = torch.tensor(X_test, dtype=torch.float32)\n",
    "y_train_tensor = torch.tensor(y_train, dtype=torch.float32).unsqueeze(1)\n",
    "y_test_tensor = torch.tensor(y_test, dtype=torch.float32).unsqueeze(1)"
   ]
  },
  {
   "cell_type": "code",
   "execution_count": 33,
   "id": "a582f0cb-60ca-4fb8-a76b-299a5111934e",
   "metadata": {},
   "outputs": [],
   "source": [
    "\n",
    "# Initialize model, loss function, and optimizer\n",
    "model = SpamClassifier(input_size, hidden_size)\n",
    "criterion = nn.BCELoss()  # Binary Cross-Entropy Loss\n",
    "optimizer = optim.Adam(model.parameters(), lr=learning_rate)"
   ]
  },
  {
   "cell_type": "code",
   "execution_count": 34,
   "id": "49eb1755-7093-4eb5-aa5d-46e0ac8d2221",
   "metadata": {},
   "outputs": [],
   "source": [
    "#Training Loop"
   ]
  },
  {
   "cell_type": "code",
   "execution_count": 35,
   "id": "b43e0259-efca-4193-bfb2-79dd576de13e",
   "metadata": {},
   "outputs": [
    {
     "name": "stdout",
     "output_type": "stream",
     "text": [
      "Epoch [1/10], Loss: 0.6790\n",
      "Epoch [2/10], Loss: 0.6752\n",
      "Epoch [3/10], Loss: 0.6714\n",
      "Epoch [4/10], Loss: 0.6676\n",
      "Epoch [5/10], Loss: 0.6637\n",
      "Epoch [6/10], Loss: 0.6598\n",
      "Epoch [7/10], Loss: 0.6557\n",
      "Epoch [8/10], Loss: 0.6515\n",
      "Epoch [9/10], Loss: 0.6471\n",
      "Epoch [10/10], Loss: 0.6426\n"
     ]
    }
   ],
   "source": [
    "for epoch in range(num_epochs):\n",
    "    model.train()\n",
    "    epoch_loss = 0\n",
    "    \n",
    "    # Forward pass\n",
    "    outputs = model(X_train_tensor)\n",
    "    loss = criterion(outputs, y_train_tensor)\n",
    "    \n",
    "    # Backward pass and optimization\n",
    "    optimizer.zero_grad()\n",
    "    loss.backward()\n",
    "    optimizer.step()\n",
    "    \n",
    "    epoch_loss += loss.item()\n",
    "    \n",
    "    print(f'Epoch [{epoch+1}/{num_epochs}], Loss: {epoch_loss:.4f}')\n"
   ]
  },
  {
   "cell_type": "code",
   "execution_count": 36,
   "id": "6e562783-a31e-4ed0-bf3e-3107d93152fe",
   "metadata": {},
   "outputs": [],
   "source": [
    "#Evaluation\n",
    "#Model Evaluation on Test Data\n"
   ]
  },
  {
   "cell_type": "code",
   "execution_count": 37,
   "id": "dd276752-c589-45da-abf9-a369015ed62e",
   "metadata": {},
   "outputs": [
    {
     "name": "stdout",
     "output_type": "stream",
     "text": [
      "Accuracy: 0.8655\n",
      "Confusion Matrix:\n",
      "[[965   0]\n",
      " [150   0]]\n"
     ]
    }
   ],
   "source": [
    "model.eval()\n",
    "with torch.no_grad():\n",
    "    # Get predictions\n",
    "    predictions = model(X_test_tensor)\n",
    "    predictions = (predictions > 0.5).float()  # Convert probabilities to binary 0/1\n",
    "\n",
    "    # Convert to NumPy for evaluation\n",
    "    predictions_np = predictions.numpy()\n",
    "    y_test_np = y_test_tensor.numpy()\n",
    "\n",
    "    # Accuracy\n",
    "    accuracy = accuracy_score(y_test_np, predictions_np)\n",
    "    print(f'Accuracy: {accuracy:.4f}')\n",
    "\n",
    "    # Confusion Matrix\n",
    "    cm = confusion_matrix(y_test_np, predictions_np)\n",
    "    print('Confusion Matrix:')\n",
    "    print(cm)\n"
   ]
  },
  {
   "cell_type": "code",
   "execution_count": 38,
   "id": "b26b03ad-1218-4eef-83c2-6c24ed741b4e",
   "metadata": {},
   "outputs": [
    {
     "data": {
      "image/png": "[encoded data removed]",
      "text/plain": [
       "<Figure size 800x600 with 2 Axes>"
      ]
     },
     "metadata": {},
     "output_type": "display_data"
    }
   ],
   "source": [
    "# Compute the confusion matrix\n",
    "cm = confusion_matrix(y_test_np, predictions_np)\n",
    "\n",
    "# Create a heatmap of the confusion matrix\n",
    "plt.figure(figsize=(8, 6))\n",
    "sns.heatmap(cm, annot=True, fmt='d', cmap='Blues', \n",
    "            xticklabels=['Ham', 'Spam'], \n",
    "            yticklabels=['Ham', 'Spam'])\n",
    "plt.xlabel('Predicted')\n",
    "plt.ylabel('True')\n",
    "plt.title('Confusion Matrix')\n",
    "plt.show()"
   ]
  },
  {
   "cell_type": "code",
   "execution_count": null,
   "id": "0a2dc1eb-60b1-4699-a267-91e8c8daa4ba",
   "metadata": {},
   "outputs": [],
   "source": []
  }
 ],
 "metadata": {
  "kernelspec": {
   "display_name": "Python 3 (ipykernel)",
   "language": "python",
   "name": "python3"
  },
  "language_info": {
   "codemirror_mode": {
    "name": "ipython",
    "version": 3
   },
   "file_extension": ".py",
   "mimetype": "text/x-python",
   "name": "python",
   "nbconvert_exporter": "python",
   "pygments_lexer": "ipython3",
   "version": "3.12.4"
  }
 },
 "nbformat": 4,
 "nbformat_minor": 5
}
